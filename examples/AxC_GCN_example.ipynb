{
 "cells": [
  {
   "cell_type": "code",
   "execution_count": 1,
   "id": "initial_id",
   "metadata": {
    "collapsed": true
   },
   "outputs": [
    {
     "name": "stderr",
     "output_type": "stream",
     "text": [
      "/Users/nanwu/anaconda3/envs/deoxys/lib/python3.9/site-packages/threadpoolctl.py:1214: RuntimeWarning: \n",
      "Found Intel OpenMP ('libiomp') and LLVM OpenMP ('libomp') loaded at\n",
      "the same time. Both libraries are known to be incompatible and this\n",
      "can cause random crashes or deadlocks on Linux when loaded in the\n",
      "same Python program.\n",
      "Using threadpoolctl may cause crashes or deadlocks. For more\n",
      "information and possible workarounds, please see\n",
      "    https://github.com/joblib/threadpoolctl/blob/master/multiple_openmp.md\n",
      "\n",
      "  warnings.warn(msg, RuntimeWarning)\n"
     ]
    }
   ],
   "source": [
    "import torch\n",
    "import os\n",
    "os.environ['MKL_THREADING_LAYER']='TBB'\n",
    "from deeprobust.graph.data import Dataset\n",
    "from deeprobust.graph.defense import GCN\n",
    "from deeprobust.graph.targeted_attack import Nettack\n"
   ]
  },
  {
   "cell_type": "code",
   "execution_count": 2,
   "id": "45f31d08",
   "metadata": {},
   "outputs": [],
   "source": [
    "import os.path as osp\n",
    "import os\n",
    "import sys\n",
    "__file__='AxC_GCN_example.ipynb'\n",
    "root_folder = osp.abspath(os.path.dirname(os.path.dirname(os.path.abspath(__file__))))\n",
    "sys.path.append(root_folder )"
   ]
  },
  {
   "cell_type": "code",
   "execution_count": 3,
   "id": "9f56963f131b0d45",
   "metadata": {
    "collapsed": false
   },
   "outputs": [
    {
     "name": "stdout",
     "output_type": "stream",
     "text": [
      "Loading cora dataset...\n",
      "Selecting 1 largest connected components\n"
     ]
    }
   ],
   "source": [
    "from model.Appx_GCN import Appx_GCN\n",
    "device = \"cpu\"\n",
    "data = Dataset(root = '../data', name = 'cora')\n",
    "adj, features, labels = torch.Tensor(data.adj.toarray()), torch.Tensor(data.features.toarray()), data.labels\n",
    "idx_train, idx_val, idx_test = data.idx_train, data.idx_val, data.idx_test\n",
    "\n",
    "degrees=adj.sum(dim=1)\n",
    "# Setup Surrogate model\n",
    "surrogate = GCN(nfeat = features.shape[1], nclass = labels.max().item() + 1,\n",
    "            nhid = 16, dropout = 0, with_relu = True, with_bias = True, device = device)\n",
    "surrogate.fit(features, adj, torch.LongTensor(labels), idx_train, idx_val, patience=30)"
   ]
  },
  {
   "cell_type": "code",
   "execution_count": 4,
   "id": "b7f97e97ada1b71",
   "metadata": {
    "collapsed": false
   },
   "outputs": [
    {
     "name": "stdout",
     "output_type": "stream",
     "text": [
      "##### Starting attack #####\n",
      "##### Attack only using feature perturbations #####\n",
      "##### Attacking the node directly #####\n",
      "##### Performing 10 perturbations #####\n",
      "##### ...1/10 perturbations ... #####\n",
      "##### ...2/10 perturbations ... #####\n",
      "##### ...3/10 perturbations ... #####\n",
      "##### ...4/10 perturbations ... #####\n",
      "##### ...5/10 perturbations ... #####\n",
      "##### ...6/10 perturbations ... #####\n",
      "##### ...7/10 perturbations ... #####\n",
      "##### ...8/10 perturbations ... #####\n",
      "##### ...9/10 perturbations ... #####\n",
      "##### ...10/10 perturbations ... #####\n"
     ]
    }
   ],
   "source": [
    "# Setup Attack Model\n",
    "target_node = 1168\n",
    "model = Nettack(surrogate, nnodes = adj.shape[0], attack_structure = False, attack_features = True, device = device)\n",
    "# Attack\n",
    "model.attack(features, adj, labels, target_node, n_perturbations=int(degrees[1168].item())*2)\n",
    "modified_adj = torch.Tensor(model.modified_adj.toarray())\n",
    "modified_features = torch.Tensor(model.modified_features.toarray())"
   ]
  },
  {
   "cell_type": "code",
   "execution_count": 5,
   "id": "785474e626933ff7",
   "metadata": {
    "collapsed": false
   },
   "outputs": [
    {
     "name": "stdout",
     "output_type": "stream",
     "text": [
      "tensor([0.0063, 0.7961, 0.1636, 0.0048, 0.0141, 0.0107, 0.0044],\n",
      "       grad_fn=<SelectBackward0>)\n",
      "tensor([0.0046, 0.1767, 0.7952, 0.0042, 0.0114, 0.0062, 0.0018],\n",
      "       grad_fn=<SelectBackward0>)\n"
     ]
    }
   ],
   "source": [
    "# Test\n",
    "print(torch.exp(surrogate.predict(features, adj))[target_node])\n",
    "print(torch.exp(surrogate.predict(modified_features, modified_adj))[target_node])"
   ]
  },
  {
   "cell_type": "code",
   "execution_count": null,
   "id": "5dc634fb",
   "metadata": {},
   "outputs": [],
   "source": [
    "# use approximate model\n",
    "axc_gcn= Appx_GCN(nfeat = features.shape[1],\n",
    "              nhid = 16,\n",
    "              nclass = labels.max().item() + 1,\n",
    "              dropout = 0.5, device = device, para_path = \"../Pre-trained/GCN_Cora.pkl\")\n",
    "axc_gcn.fit(modified_features, modified_adj, labels, idx_train, idx_val, patience = 30, train_iters = 0)\n",
    "\n",
    "print(torch.exp(axc_gcn.predict(features, adj))[target_node])\n",
    "print(torch.exp(axc_gcn.predict(modified_features, modified_adj))[target_node])"
   ]
  }
 ],
 "metadata": {
  "kernelspec": {
   "display_name": "Python 3",
   "language": "python",
   "name": "python3"
  },
  "language_info": {
   "codemirror_mode": {
    "name": "ipython",
    "version": 3
   },
   "file_extension": ".py",
   "mimetype": "text/x-python",
   "name": "python",
   "nbconvert_exporter": "python",
   "pygments_lexer": "ipython3",
   "version": "3.9.13"
  }
 },
 "nbformat": 4,
 "nbformat_minor": 5
}
